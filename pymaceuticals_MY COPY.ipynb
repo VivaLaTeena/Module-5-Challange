{
 "cells": [
  {
   "cell_type": "markdown",
   "metadata": {},
   "source": [
    "# Pymaceuticals Inc.\n",
    "---\n",
    "\n",
    "### Analysis\n",
    "\n",
    "- Add your analysis here.\n",
    " #In this study, a total of 249 unique mice were treated with various drug regimens, such as Capomulin, Ramicane, Propriva, Infubinol, etc., with primarily equal drugs amount for the mice. The gender distribution was relatively balanced, with 124 female mice and 125 male mice. A strong positive correlation (correlation coefficient: 0.84) was found between mouse weight and the average tumor volume in the Capomulin regimen, indicating that as mouse weight increases, average tumor volume also increases. The regression analysis showed that mouse weight can predict around 70% of the variability in average tumor volume, providing insights into the impact of mouse weight on tumor growth. Comparing treatments, both Capomulin and Ramicane demonstrated better results in reducing tumor size, suggesting their potential effectiveness in treating the condition compared to other regimens in the study. Overall, these findings contribute to a deeper understanding of the relationship between drug regimens, mouse weight, and tumor growth in the context of the selected treatments.\n"
   ]
  },
  {
   "cell_type": "code",
   "execution_count": 52,
   "metadata": {
    "tags": []
   },
   "outputs": [
    {
     "data": {
      "text/html": [
       "<div>\n",
       "<style scoped>\n",
       "    .dataframe tbody tr th:only-of-type {\n",
       "        vertical-align: middle;\n",
       "    }\n",
       "\n",
       "    .dataframe tbody tr th {\n",
       "        vertical-align: top;\n",
       "    }\n",
       "\n",
       "    .dataframe thead th {\n",
       "        text-align: right;\n",
       "    }\n",
       "</style>\n",
       "<table border=\"1\" class=\"dataframe\">\n",
       "  <thead>\n",
       "    <tr style=\"text-align: right;\">\n",
       "      <th></th>\n",
       "      <th>Mouse ID</th>\n",
       "      <th>Drug Regimen</th>\n",
       "      <th>Sex</th>\n",
       "      <th>Age_months</th>\n",
       "      <th>Weight (g)</th>\n",
       "      <th>Timepoint</th>\n",
       "      <th>Tumor Volume (mm3)</th>\n",
       "      <th>Metastatic Sites</th>\n",
       "    </tr>\n",
       "  </thead>\n",
       "  <tbody>\n",
       "    <tr>\n",
       "      <th>0</th>\n",
       "      <td>k403</td>\n",
       "      <td>Ramicane</td>\n",
       "      <td>Male</td>\n",
       "      <td>21</td>\n",
       "      <td>16</td>\n",
       "      <td>0</td>\n",
       "      <td>45.000000</td>\n",
       "      <td>0</td>\n",
       "    </tr>\n",
       "    <tr>\n",
       "      <th>1</th>\n",
       "      <td>k403</td>\n",
       "      <td>Ramicane</td>\n",
       "      <td>Male</td>\n",
       "      <td>21</td>\n",
       "      <td>16</td>\n",
       "      <td>5</td>\n",
       "      <td>38.825898</td>\n",
       "      <td>0</td>\n",
       "    </tr>\n",
       "    <tr>\n",
       "      <th>2</th>\n",
       "      <td>k403</td>\n",
       "      <td>Ramicane</td>\n",
       "      <td>Male</td>\n",
       "      <td>21</td>\n",
       "      <td>16</td>\n",
       "      <td>10</td>\n",
       "      <td>35.014271</td>\n",
       "      <td>1</td>\n",
       "    </tr>\n",
       "    <tr>\n",
       "      <th>3</th>\n",
       "      <td>k403</td>\n",
       "      <td>Ramicane</td>\n",
       "      <td>Male</td>\n",
       "      <td>21</td>\n",
       "      <td>16</td>\n",
       "      <td>15</td>\n",
       "      <td>34.223992</td>\n",
       "      <td>1</td>\n",
       "    </tr>\n",
       "    <tr>\n",
       "      <th>4</th>\n",
       "      <td>k403</td>\n",
       "      <td>Ramicane</td>\n",
       "      <td>Male</td>\n",
       "      <td>21</td>\n",
       "      <td>16</td>\n",
       "      <td>20</td>\n",
       "      <td>32.997729</td>\n",
       "      <td>1</td>\n",
       "    </tr>\n",
       "    <tr>\n",
       "      <th>...</th>\n",
       "      <td>...</td>\n",
       "      <td>...</td>\n",
       "      <td>...</td>\n",
       "      <td>...</td>\n",
       "      <td>...</td>\n",
       "      <td>...</td>\n",
       "      <td>...</td>\n",
       "      <td>...</td>\n",
       "    </tr>\n",
       "    <tr>\n",
       "      <th>1888</th>\n",
       "      <td>z969</td>\n",
       "      <td>Naftisol</td>\n",
       "      <td>Male</td>\n",
       "      <td>9</td>\n",
       "      <td>30</td>\n",
       "      <td>25</td>\n",
       "      <td>63.145652</td>\n",
       "      <td>2</td>\n",
       "    </tr>\n",
       "    <tr>\n",
       "      <th>1889</th>\n",
       "      <td>z969</td>\n",
       "      <td>Naftisol</td>\n",
       "      <td>Male</td>\n",
       "      <td>9</td>\n",
       "      <td>30</td>\n",
       "      <td>30</td>\n",
       "      <td>65.841013</td>\n",
       "      <td>3</td>\n",
       "    </tr>\n",
       "    <tr>\n",
       "      <th>1890</th>\n",
       "      <td>z969</td>\n",
       "      <td>Naftisol</td>\n",
       "      <td>Male</td>\n",
       "      <td>9</td>\n",
       "      <td>30</td>\n",
       "      <td>35</td>\n",
       "      <td>69.176246</td>\n",
       "      <td>4</td>\n",
       "    </tr>\n",
       "    <tr>\n",
       "      <th>1891</th>\n",
       "      <td>z969</td>\n",
       "      <td>Naftisol</td>\n",
       "      <td>Male</td>\n",
       "      <td>9</td>\n",
       "      <td>30</td>\n",
       "      <td>40</td>\n",
       "      <td>70.314904</td>\n",
       "      <td>4</td>\n",
       "    </tr>\n",
       "    <tr>\n",
       "      <th>1892</th>\n",
       "      <td>z969</td>\n",
       "      <td>Naftisol</td>\n",
       "      <td>Male</td>\n",
       "      <td>9</td>\n",
       "      <td>30</td>\n",
       "      <td>45</td>\n",
       "      <td>73.867845</td>\n",
       "      <td>4</td>\n",
       "    </tr>\n",
       "  </tbody>\n",
       "</table>\n",
       "<p>1893 rows × 8 columns</p>\n",
       "</div>"
      ],
      "text/plain": [
       "     Mouse ID Drug Regimen   Sex  Age_months  Weight (g)  Timepoint  \\\n",
       "0        k403     Ramicane  Male          21          16          0   \n",
       "1        k403     Ramicane  Male          21          16          5   \n",
       "2        k403     Ramicane  Male          21          16         10   \n",
       "3        k403     Ramicane  Male          21          16         15   \n",
       "4        k403     Ramicane  Male          21          16         20   \n",
       "...       ...          ...   ...         ...         ...        ...   \n",
       "1888     z969     Naftisol  Male           9          30         25   \n",
       "1889     z969     Naftisol  Male           9          30         30   \n",
       "1890     z969     Naftisol  Male           9          30         35   \n",
       "1891     z969     Naftisol  Male           9          30         40   \n",
       "1892     z969     Naftisol  Male           9          30         45   \n",
       "\n",
       "      Tumor Volume (mm3)  Metastatic Sites  \n",
       "0              45.000000                 0  \n",
       "1              38.825898                 0  \n",
       "2              35.014271                 1  \n",
       "3              34.223992                 1  \n",
       "4              32.997729                 1  \n",
       "...                  ...               ...  \n",
       "1888           63.145652                 2  \n",
       "1889           65.841013                 3  \n",
       "1890           69.176246                 4  \n",
       "1891           70.314904                 4  \n",
       "1892           73.867845                 4  \n",
       "\n",
       "[1893 rows x 8 columns]"
      ]
     },
     "execution_count": 52,
     "metadata": {},
     "output_type": "execute_result"
    }
   ],
   "source": [
    "# Dependencies and Setup\n",
    "import matplotlib.pyplot as plt\n",
    "import pandas as pd\n",
    "import scipy.stats as st\n",
    "import numpy as np\n",
    "\n",
    "# Study data files\n",
    "mouse_metadata_path = \"data/Mouse_metadata.csv\"\n",
    "study_results_path = \"data/Study_results.csv\"\n",
    "\n",
    "# Read the mouse data and the study results\n",
    "mouse_metadata = pd.read_csv(mouse_metadata_path)\n",
    "study_results = pd.read_csv(study_results_path)\n",
    "\n",
    "# Combine the data into a single DataFrame\n",
    "merged_df = pd.merge(mouse_metadata, study_results, on='Mouse ID')\n",
    "\n",
    "\n",
    "# Display the data table for preview\n",
    "merged_df"
   ]
  },
  {
   "cell_type": "code",
   "execution_count": 33,
   "metadata": {
    "tags": []
   },
   "outputs": [
    {
     "name": "stdout",
     "output_type": "stream",
     "text": [
      "Number of unique mice IDs: 249\n"
     ]
    }
   ],
   "source": [
    "# Checking the number of mice.\n",
    "unique_mice_count = merged_df['Mouse ID'].nunique()\n",
    "print(\"Number of unique mice IDs:\", unique_mice_count)"
   ]
  },
  {
   "cell_type": "code",
   "execution_count": 34,
   "metadata": {
    "tags": []
   },
   "outputs": [
    {
     "name": "stdout",
     "output_type": "stream",
     "text": [
      "[['g989' 'Propriva' 'Female' 21 26 0 45.0 0]\n",
      " ['g989' 'Propriva' 'Female' 21 26 0 45.0 0]\n",
      " ['g989' 'Propriva' 'Female' 21 26 5 48.78680146 0]\n",
      " ['g989' 'Propriva' 'Female' 21 26 5 47.57039208 0]\n",
      " ['g989' 'Propriva' 'Female' 21 26 10 51.74515613 0]\n",
      " ['g989' 'Propriva' 'Female' 21 26 10 49.8805278 0]\n",
      " ['g989' 'Propriva' 'Female' 21 26 15 51.32585207 1]\n",
      " ['g989' 'Propriva' 'Female' 21 26 15 53.44201976 0]\n",
      " ['g989' 'Propriva' 'Female' 21 26 20 55.32612202 1]\n",
      " ['g989' 'Propriva' 'Female' 21 26 20 54.65765008 1]]\n",
      "Data type of duplicate_mice:\n",
      "Mouse ID               object\n",
      "Drug Regimen           object\n",
      "Sex                    object\n",
      "Age_months              int64\n",
      "Weight (g)              int64\n",
      "Timepoint               int64\n",
      "Tumor Volume (mm3)    float64\n",
      "Metastatic Sites        int64\n",
      "dtype: object\n"
     ]
    }
   ],
   "source": [
    "# Our data should be uniquely identified by Mouse ID and Timepoint\n",
    "# Checking for duplicate rows based on Mouse ID and Timepoint\n",
    "duplicate_rows = merged_df.duplicated(subset=['Mouse ID', 'Timepoint'])\n",
    "\n",
    "# Get the duplicate mice by ID number that shows up for Mouse ID and Timepoint. \n",
    "duplicate_mice = merged_df[merged_df.duplicated(subset=['Mouse ID', 'Timepoint'], keep=False)]\n",
    "\n",
    "print(duplicate_mice.values)  # Display the array representation of duplicate_mice\n",
    "print(\"Data type of duplicate_mice:\")\n",
    "print(duplicate_mice.dtypes)  # Display the data types of duplicate_mice DataFrame columns\n"
   ]
  },
  {
   "cell_type": "code",
   "execution_count": 35,
   "metadata": {
    "tags": []
   },
   "outputs": [
    {
     "name": "stdout",
     "output_type": "stream",
     "text": [
      "Data for duplicate mouse ID: g989\n",
      "    Mouse ID Drug Regimen     Sex  Age_months  Weight (g)  Timepoint  \\\n",
      "908     g989     Propriva  Female          21          26          0   \n",
      "909     g989     Propriva  Female          21          26          0   \n",
      "910     g989     Propriva  Female          21          26          5   \n",
      "911     g989     Propriva  Female          21          26          5   \n",
      "912     g989     Propriva  Female          21          26         10   \n",
      "913     g989     Propriva  Female          21          26         10   \n",
      "914     g989     Propriva  Female          21          26         15   \n",
      "915     g989     Propriva  Female          21          26         15   \n",
      "916     g989     Propriva  Female          21          26         20   \n",
      "917     g989     Propriva  Female          21          26         20   \n",
      "918     g989     Propriva  Female          21          26         25   \n",
      "919     g989     Propriva  Female          21          26         30   \n",
      "920     g989     Propriva  Female          21          26         35   \n",
      "\n",
      "     Tumor Volume (mm3)  Metastatic Sites  \n",
      "908           45.000000                 0  \n",
      "909           45.000000                 0  \n",
      "910           48.786801                 0  \n",
      "911           47.570392                 0  \n",
      "912           51.745156                 0  \n",
      "913           49.880528                 0  \n",
      "914           51.325852                 1  \n",
      "915           53.442020                 0  \n",
      "916           55.326122                 1  \n",
      "917           54.657650                 1  \n",
      "918           56.045564                 1  \n",
      "919           59.082294                 1  \n",
      "920           62.570880                 2  \n"
     ]
    }
   ],
   "source": [
    "# Get all the data for the duplicate mouse ID. \n",
    "if not duplicate_mice.empty:\n",
    "    for mouse_id in duplicate_mice['Mouse ID'].unique():\n",
    "        duplicate_mouse_data = merged_df.loc[merged_df['Mouse ID'] == mouse_id]\n",
    "        print(\"Data for duplicate mouse ID:\", mouse_id)\n",
    "        print(duplicate_mouse_data)\n",
    "else:\n",
    "    print(\"No duplicate mice found.\")"
   ]
  },
  {
   "cell_type": "code",
   "execution_count": 36,
   "metadata": {
    "tags": []
   },
   "outputs": [
    {
     "name": "stdout",
     "output_type": "stream",
     "text": [
      "Clean DataFrame without duplicate mice:\n",
      "     Mouse ID Drug Regimen     Sex  Age_months  Weight (g)  Timepoint  \\\n",
      "0        k403     Ramicane    Male          21          16          0   \n",
      "10       s185    Capomulin  Female           3          17          0   \n",
      "20       x401    Capomulin  Female          16          15          0   \n",
      "30       m601    Capomulin    Male          22          17          0   \n",
      "40       g791     Ramicane    Male          11          16          0   \n",
      "...       ...          ...     ...         ...         ...        ...   \n",
      "1858     z314     Stelasyn  Female          21          28          0   \n",
      "1860     z435     Propriva  Female          12          26          0   \n",
      "1863     z581    Infubinol  Female          24          25          0   \n",
      "1873     z795     Naftisol  Female          13          29          0   \n",
      "1883     z969     Naftisol    Male           9          30          0   \n",
      "\n",
      "      Tumor Volume (mm3)  Metastatic Sites  \n",
      "0                   45.0                 0  \n",
      "10                  45.0                 0  \n",
      "20                  45.0                 0  \n",
      "30                  45.0                 0  \n",
      "40                  45.0                 0  \n",
      "...                  ...               ...  \n",
      "1858                45.0                 0  \n",
      "1860                45.0                 0  \n",
      "1863                45.0                 0  \n",
      "1873                45.0                 0  \n",
      "1883                45.0                 0  \n",
      "\n",
      "[249 rows x 8 columns]\n"
     ]
    }
   ],
   "source": [
    "# Create a clean DataFrame by dropping the duplicate mouse by its ID.\n",
    "clean_df = merged_df.drop_duplicates(subset='Mouse ID', keep='first')\n",
    "\n",
    "# Verify the resulting clean DataFrame\n",
    "print(\"Clean DataFrame without duplicate mice:\")\n",
    "print(clean_df)\n"
   ]
  },
  {
   "cell_type": "code",
   "execution_count": 37,
   "metadata": {
    "tags": []
   },
   "outputs": [
    {
     "name": "stdout",
     "output_type": "stream",
     "text": [
      "No duplicate Mouse IDs found.\n",
      "Number of mice in the clean DataFrame: 249\n"
     ]
    }
   ],
   "source": [
    "# Check for duplicate Mouse IDs in the clean DataFrame\n",
    "duplicate_mouse_ids = clean_df['Mouse ID'][clean_df.duplicated(subset='Mouse ID', keep=False)]\n",
    "\n",
    "# Display the duplicate Mouse IDs (if any)\n",
    "if not duplicate_mouse_ids.empty:\n",
    "    print(\"Duplicate Mouse IDs in the clean DataFrame:\")\n",
    "    print(duplicate_mouse_ids)\n",
    "else:\n",
    "    print(\"No duplicate Mouse IDs found.\")\n",
    "\n",
    "# Checking the number of mice in the clean DataFrame.\n",
    "num_mice = clean_df['Mouse ID'].nunique()\n",
    "print(\"Number of mice in the clean DataFrame:\", num_mice)"
   ]
  },
  {
   "cell_type": "markdown",
   "metadata": {},
   "source": [
    "## Summary Statistics"
   ]
  },
  {
   "cell_type": "code",
   "execution_count": 38,
   "metadata": {
    "tags": []
   },
   "outputs": [
    {
     "name": "stdout",
     "output_type": "stream",
     "text": [
      "Summary Statistics of Tumor Volume by Drug Regimen:\n",
      "              Mean  Median  Variance  Standard Deviation  SEM\n",
      "Drug Regimen                                                 \n",
      "Capomulin     45.0    45.0       0.0                 0.0  0.0\n",
      "Ceftamin      45.0    45.0       0.0                 0.0  0.0\n",
      "Infubinol     45.0    45.0       0.0                 0.0  0.0\n",
      "Ketapril      45.0    45.0       0.0                 0.0  0.0\n",
      "Naftisol      45.0    45.0       0.0                 0.0  0.0\n",
      "Placebo       45.0    45.0       0.0                 0.0  0.0\n",
      "Propriva      45.0    45.0       0.0                 0.0  0.0\n",
      "Ramicane      45.0    45.0       0.0                 0.0  0.0\n",
      "Stelasyn      45.0    45.0       0.0                 0.0  0.0\n",
      "Zoniferol     45.0    45.0       0.0                 0.0  0.0\n"
     ]
    }
   ],
   "source": [
    "# Generate a summary statistics table of mean, median, variance, standard deviation, and SEM of the tumor volume for each regimen\n",
    "\n",
    "# Use groupby and summary statistical methods to calculate the following properties of each drug regimen:\n",
    "\n",
    "# mean, median, variance, standard deviation, and SEM of the tumor volume.\n",
    "\n",
    "# Group the data by drug regimen and calculate the desired statistics\n",
    "grouped_stats = clean_df.groupby('Drug Regimen')['Tumor Volume (mm3)'].agg(['mean', 'median', 'var', 'std', 'sem'])\n",
    "\n",
    "# Assemble the resulting series into a single summary DataFrame\n",
    "summary_stats = pd.DataFrame({\n",
    "    'Mean': grouped_stats['mean'],\n",
    "    'Median': grouped_stats['median'],\n",
    "    'Variance': grouped_stats['var'],\n",
    "    'Standard Deviation': grouped_stats['std'],\n",
    "    'SEM': grouped_stats['sem']\n",
    "})\n",
    "\n",
    "# Display the summary statistics table\n",
    "print(\"Summary Statistics of Tumor Volume by Drug Regimen:\")\n",
    "print(summary_stats)\n"
   ]
  },
  {
   "cell_type": "code",
   "execution_count": 39,
   "metadata": {
    "tags": []
   },
   "outputs": [
    {
     "name": "stdout",
     "output_type": "stream",
     "text": [
      "Summary Statistics of Tumor Volume by Drug Regimen:\n",
      "              Mean  Median  Variance  Standard Deviation  SEM\n",
      "Drug Regimen                                                 \n",
      "Capomulin     45.0    45.0       0.0                 0.0  0.0\n",
      "Ceftamin      45.0    45.0       0.0                 0.0  0.0\n",
      "Infubinol     45.0    45.0       0.0                 0.0  0.0\n",
      "Ketapril      45.0    45.0       0.0                 0.0  0.0\n",
      "Naftisol      45.0    45.0       0.0                 0.0  0.0\n",
      "Placebo       45.0    45.0       0.0                 0.0  0.0\n",
      "Propriva      45.0    45.0       0.0                 0.0  0.0\n",
      "Ramicane      45.0    45.0       0.0                 0.0  0.0\n",
      "Stelasyn      45.0    45.0       0.0                 0.0  0.0\n",
      "Zoniferol     45.0    45.0       0.0                 0.0  0.0\n"
     ]
    }
   ],
   "source": [
    "# A more advanced method to generate a summary statistics table of mean, median, variance, standard deviation,\n",
    "# and SEM of the tumor volume for each regimen (only one method is required in the solution)\n",
    "\n",
    "summary_stats = clean_df.groupby('Drug Regimen')['Tumor Volume (mm3)'].agg(['mean', 'median', 'var', 'std', 'sem']).rename(columns={'mean': 'Mean', 'median': 'Median', 'var': 'Variance', 'std': 'Standard Deviation', 'sem': 'SEM'})\n",
    "# Using the aggregation method, produce the same summary statistics in a single line\n",
    "# Display the summary statistics table\n",
    "print(\"Summary Statistics of Tumor Volume by Drug Regimen:\")\n",
    "print(summary_stats)\n"
   ]
  },
  {
   "cell_type": "markdown",
   "metadata": {},
   "source": [
    "## Bar and Pie Charts"
   ]
  },
  {
   "cell_type": "code",
   "execution_count": 40,
   "metadata": {
    "tags": []
   },
   "outputs": [
    {
     "data": {
      "image/png": "[encoded data removed]",
      "text/plain": [
       "<Figure size 640x480 with 1 Axes>"
      ]
     },
     "metadata": {},
     "output_type": "display_data"
    }
   ],
   "source": [
    "# Generate a bar plot showing the total number of rows (Mouse ID/Timepoints) for each drug regimen using Pandas.\n",
    "# Grouping the data by drug regimen and counting the number of rows (Mouse ID/Timepoints) for each regimen\n",
    "drug_counts = clean_df['Drug Regimen'].value_counts()\n",
    "# Creating the bar plot\n",
    "drug_counts.plot(kind='bar', color='skyblue', edgecolor='black')\n",
    "# Adding labels and title\n",
    "plt.xlabel('Drug Regimen')\n",
    "plt.ylabel('Number of Data Points')\n",
    "plt.title('Total Number of Data Points for Each Drug Regimen')\n",
    "# Displaying the plot\n",
    "plt.tight_layout()\n",
    "plt.show()"
   ]
  },
  {
   "cell_type": "code",
   "execution_count": 41,
   "metadata": {
    "tags": []
   },
   "outputs": [
    {
     "data": {
      "image/png": "[encoded data removed]",
      "text/plain": [
       "<Figure size 640x480 with 1 Axes>"
      ]
     },
     "metadata": {},
     "output_type": "display_data"
    }
   ],
   "source": [
    "\n",
    "# Generate a bar plot showing the total number of rows (Mouse ID/Timepoints) for each drug regimen using pyplot.\n",
    "drug_counts = clean_df['Drug Regimen'].value_counts()\n",
    "\n",
    "# Creating the bar plot using pyplot\n",
    "plt.bar(drug_counts.index, drug_counts.values, color='skyblue', edgecolor='black')\n",
    "\n",
    "# Adding labels and title\n",
    "plt.xlabel('Drug Regimen')\n",
    "plt.ylabel('Number of Data Points')\n",
    "plt.title('Total Number of Data Points for Each Drug Regimen')\n",
    "\n",
    "# Rotating x-axis labels for better visibility (optional)\n",
    "plt.xticks(rotation=45, ha='right')\n",
    "\n",
    "# Displaying the plot\n",
    "plt.tight_layout()\n",
    "plt.show()"
   ]
  },
  {
   "cell_type": "code",
   "execution_count": 42,
   "metadata": {
    "tags": []
   },
   "outputs": [
    {
     "data": {
      "image/png": "[encoded data removed]",
      "text/plain": [
       "<Figure size 600x600 with 1 Axes>"
      ]
     },
     "metadata": {},
     "output_type": "display_data"
    }
   ],
   "source": [
    "# Generate a pie plot showing the distribution of female versus male mice using Pandas\n",
    "# Group the data and calculate the count of female and male mice\n",
    "gender_counts = clean_df['Sex'].value_counts()\n",
    "\n",
    "# Create a pie plot using Pandas plot.pie()\n",
    "gender_counts.plot(kind='pie', autopct='%1.1f%%', startangle=180, figsize=(6, 6), colors=['blue', 'pink'])\n",
    "\n",
    "# Display the plot\n",
    "plt.axis('equal')  # Equal aspect ratio ensures that the pie chart is circular\n",
    "plt.tight_layout\n",
    "plt.show()\n"
   ]
  },
  {
   "cell_type": "code",
   "execution_count": 43,
   "metadata": {
    "tags": []
   },
   "outputs": [
    {
     "data": {
      "image/png": "[encoded data removed]",
      "text/plain": [
       "<Figure size 600x600 with 1 Axes>"
      ]
     },
     "metadata": {},
     "output_type": "display_data"
    }
   ],
   "source": [
    "# Generate a pie plot showing the distribution of female versus male mice using pyplot\n",
    "import matplotlib.pyplot as plt\n",
    "\n",
    "# Group the data and calculate the count of female and male mice\n",
    "gender_counts = clean_df['Sex'].value_counts()\n",
    "\n",
    "# Create a pie plot using pyplot.pie()\n",
    "plt.figure(figsize=(6, 6))\n",
    "plt.pie(gender_counts, labels=gender_counts.index, autopct='%1.1f%%', colors=['blue', 'pink'], startangle=180)\n",
    "\n",
    "# Display the plot\n",
    "plt.axis('equal')  # Equal aspect ratio ensures that the pie chart is circular\n",
    "plt.tight_layout()\n",
    "plt.show()\n"
   ]
  },
  {
   "cell_type": "markdown",
   "metadata": {},
   "source": [
    "## Quartiles, Outliers and Boxplots"
   ]
  },
  {
   "cell_type": "code",
   "execution_count": 44,
   "metadata": {
    "tags": []
   },
   "outputs": [],
   "source": [
    "# Calculate the final tumor volume of each mouse across four of the treatment regimens:\n",
    "# Capomulin, Ramicane, Infubinol, and Ceftamin\n",
    "last_timepoint = clean_df.groupby('Mouse ID')['Timepoint'].max()\n",
    "\n",
    "# Merge this group DataFrame with the original DataFrame to get the tumor volume at the last timepoint\n",
    "final_tumor_volume = pd.merge(last_timepoint, clean_df, on=['Mouse ID', 'Timepoint'])\n",
    "\n",
    "# Filter the DataFrame to include only the four treatment regimens: Capomulin, Ramicane, Infubinol, and Ceftamin\n",
    "four_treatments = final_tumor_volume[final_tumor_volume['Drug Regimen'].isin(['Capomulin', 'Ramicane', 'Infubinol',\n",
    "                                                                              'Ceftamin'])]\n",
    "\n",
    "# Display the DataFrame with the final tumor volume for each mouse in the four treatments\n",
    "df = four_treatments"
   ]
  },
  {
   "cell_type": "code",
   "execution_count": 45,
   "metadata": {
    "tags": []
   },
   "outputs": [
    {
     "name": "stdout",
     "output_type": "stream",
     "text": [
      "Capomulin's potential outliers: Series([], Name: Tumor Volume (mm3), dtype: float64)\n",
      "Ramicane's potential outliers: Series([], Name: Tumor Volume (mm3), dtype: float64)\n",
      "Infubinol's potential outliers: Series([], Name: Tumor Volume (mm3), dtype: float64)\n",
      "Ceftamin's potential outliers: Series([], Name: Tumor Volume (mm3), dtype: float64)\n"
     ]
    }
   ],
   "source": [
    "# Put treatments into a list for a for loop (and later for plot labels)\n",
    "treatments = ['Capomulin', 'Ramicane', 'Infubinol', 'Ceftamin']\n",
    "\n",
    "# Calculate the IQR and quantitatively determine if there are any potential outliers.\n",
    "for treatment in treatments:\n",
    "    \n",
    "    # Locate the rows which contain mice on each drug and get the tumor volumes\n",
    "    tumor_vols = four_treatments.loc[four_treatments['Drug Regimen'] == treatment, 'Tumor Volume (mm3)']\n",
    "    \n",
    "    # Check if the tumor_vols list is not empty before calculating IQR\n",
    "    if not tumor_vols.empty:\n",
    "        # Calculate the IQR\n",
    "        q1 = np.percentile(tumor_vols, 25)\n",
    "        q3 = np.percentile(tumor_vols, 75)\n",
    "        iqr = q3 - q1\n",
    "        # Determine outliers using upper and lower bounds\n",
    "        lower_bound = q1 - (1.5 * iqr)\n",
    "        upper_bound = q3 + (1.5 * iqr)\n",
    "        outliers = tumor_vols.loc[(tumor_vols < lower_bound) | (tumor_vols > upper_bound)]\n",
    "        \n",
    "        # Print potential outliers for each treatment\n",
    "        if outliers.empty:\n",
    "            print(f\"{treatment}'s potential outliers: Series([], Name: Tumor Volume (mm3), dtype: float64)\")\n",
    "        else:\n",
    "            print(f\"{treatment}'s potential outliers:\\n{outliers}\")\n",
    "    else:\n",
    "        print(f\"No data points for {treatment}\")"
   ]
  },
  {
   "cell_type": "code",
   "execution_count": 48,
   "metadata": {
    "tags": []
   },
   "outputs": [
    {
     "data": {
      "image/png": "[encoded data removed]",
      "text/plain": [
       "<Figure size 450x300 with 1 Axes>"
      ]
     },
     "metadata": {},
     "output_type": "display_data"
    }
   ],
   "source": [
    "# Generate a box plot that shows the distrubution of the tumor volume for each treatment group.\n",
    "plt.figure(figsize=(10, 6))\n",
    "plt.boxplot(tumor_vol_by_treatment, labels=treatments, flierprops=dict(markerfacecolor='red', marker='o'))\n",
    "\n",
    "# Add labels and title\n",
    "plt.xlabel('Drug Regimen')\n",
    "plt.ylabel('Tumor Volume (mm3)')\n",
    "plt.title('Distribution of Tumor Volume for Each Treatment Group')\n",
    "\n",
    "# Show the plot\n",
    "plt.show()"
   ]
  },
  {
   "cell_type": "markdown",
   "metadata": {},
   "source": [
    "## Line and Scatter Plots"
   ]
  },
  {
   "cell_type": "code",
   "execution_count": 16,
   "metadata": {
    "tags": []
   },
   "outputs": [],
   "source": [
    "# Generate a line plot of tumor volume vs. time point for a single mouse treated with Capomulin\n",
    "clean_data.loc[(clean_data[\"Drug Regimen\"]==\"Capomulin\")]\n",
    "Capomulin_df = clean_data.loc[(clean_data[\"Drug Regimen\"]==\"Capomulin\")]\n",
    "Capomulin_df.loc[clean_data[\"Mouse ID\"]==\"l509\"]\\\n",
    ".plot.line(x=\"Timepoint\", y=\"Tumor Volume (mm3)\",figsize=(4.5,3),\n",
    "           fontsize=8, legend=False)\n",
    "plt.title(\"Capomulin treatment of mouse l509\" ,fontsize=9)\n",
    "plt.xlabel(\"Timepoint (days)\", fontsize=8)\n",
    "plt.ylabel(\"Tumor Volume (mm3)\", fontsize=8)\n",
    "plt.show()"
   ]
  },
  {
   "cell_type": "code",
   "execution_count": 17,
   "metadata": {
    "tags": []
   },
   "outputs": [],
   "source": [
    "# Generate a scatter plot of mouse weight vs. the average observed tumor volume for the entire Capomulin regimen\n",
    "Capomulin_df_mean = Capomulin_df.groupby([\"Mouse ID\", \"Age_months\"], as_index=False).mean()\n",
    "plt.figure(figsize=(4.5, 3))\n",
    "plt.scatter(Capomulin_df_mean[\"Weight (g)\"], Capomulin_df_mean[\"Tumor Volume (mm3)\"])\n",
    "plt.xlabel(\"Weight (g)\", fontsize=8)\n",
    "plt.ylabel(\"Average Tumor Volume (mm3)\", fontsize=8)\n",
    "plt.title(\"Mouse Weight vs. Average Tumor Volume (Capomulin)\", fontsize=9)\n",
    "plt.show()"
   ]
  },
  {
   "cell_type": "markdown",
   "metadata": {},
   "source": [
    "## Correlation and Regression"
   ]
  },
  {
   "cell_type": "code",
   "execution_count": 18,
   "metadata": {
    "tags": []
   },
   "outputs": [],
   "source": [
    "# Calculate the correlation coefficient and a linear regression model\n",
    "# for mouse weight and average observed tumor volume for the entire Capomulin regimen\n",
    "weight = Capomulin_df_mean[\"Weight (g)\"]\n",
    "tumor_volume = Capomulin_df_mean[\"Tumor Volume (mm3)\"]\n",
    "correlation_coefficient = st.pearsonr(weight, tumor_volume)[0]\n",
    "plt.figure(figsize=(6, 4))\n",
    "plt.scatter(weight, tumor_volume)\n",
    "plt.plot(weight, slope * weight + intercept, color='red', label='Linear Regression')\n",
    "# Add labels and title\n",
    "plt.xlabel(\"Weight (g)\", fontsize=10)\n",
    "plt.ylabel(\"Average Tumor Volume (mm3)\", fontsize=10)\n",
    "plt.title(\"Mouse Weight vs. Average Tumor Volume (Capomulin)\", fontsize=12)\n",
    "\n",
    "# Add correlation coefficient and regression equation to the plot\n",
    "equation = f\"y = {slope:.2f}x + {intercept:.2f}\"\n",
    "print(f\"The correlation between mouse weight and the average tumor volume is {round(correlation_coefficient, 2)}\")\n",
    "plt.legend()\n",
    "plt.grid(True)\n",
    "plt.show()"
   ]
  },
  {
   "cell_type": "code",
   "execution_count": null,
   "metadata": {},
   "outputs": [],
   "source": []
  },
  {
   "cell_type": "code",
   "execution_count": null,
   "metadata": {},
   "outputs": [],
   "source": []
  }
 ],
 "metadata": {
  "anaconda-cloud": {},
  "kernelspec": {
   "display_name": "Python 3 (ipykernel)",
   "language": "python",
   "name": "python3"
  },
  "language_info": {
   "codemirror_mode": {
    "name": "ipython",
    "version": 3
   },
   "file_extension": ".py",
   "mimetype": "text/x-python",
   "name": "python",
   "nbconvert_exporter": "python",
   "pygments_lexer": "ipython3",
   "version": "3.10.12"
  }
 },
 "nbformat": 4,
 "nbformat_minor": 4
}
